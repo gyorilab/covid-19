{
 "cells": [
  {
   "cell_type": "markdown",
   "metadata": {},
   "source": [
    "### Finding small molecule inhibitors for a COVID-19 Disease Map (DM) pathway"
   ]
  },
  {
   "cell_type": "markdown",
   "metadata": {},
   "source": [
    "Choose the name of the COVID-19 DM pathway to target"
   ]
  },
  {
   "cell_type": "code",
   "execution_count": 1,
   "metadata": {},
   "outputs": [],
   "source": [
    "pathway_name = 'Interferon 1 pathway'"
   ]
  },
  {
   "cell_type": "markdown",
   "metadata": {},
   "source": [
    "Fetch the relevant pathway model from MMINERVA, and extract model elements"
   ]
  },
  {
   "cell_type": "code",
   "execution_count": 2,
   "metadata": {},
   "outputs": [],
   "source": [
    "from covid_19.disease_maps.minerva_client import *\n",
    "from covid_19.disease_maps.id_mapping_minerva import *\n",
    "\n",
    "# Some basic elements of the COVID-19 DM\n",
    "config = get_config(default_map_name)\n",
    "project_id = get_project_id_from_config(config)\n",
    "models = get_models(project_id, default_map_name)\n",
    "ifn1_id = [m['idObject'] for m in models if m['name'] == pathway_name][0]\n",
    "elements = get_model_elements(ifn1_id, project_id, default_map_name)"
   ]
  },
  {
   "cell_type": "markdown",
   "metadata": {},
   "source": [
    "Now construct the INDRA mappings (i.e., equivalents using INDRA-compatible grounding namespaces and IDs) for these elements"
   ]
  },
  {
   "cell_type": "code",
   "execution_count": 3,
   "metadata": {},
   "outputs": [
    {
     "name": "stderr",
     "output_type": "stream",
     "text": [
      "INFO: [2021-02-22 12:16:22] indra.ontology.bio.ontology - Loading INDRA bio ontology from cache at /Users/ben/.indra/bio_ontology/1.7/bio_ontology.pkl\n"
     ]
    }
   ],
   "source": [
    "indra_mappings = [indra_db_refs_from_minerva_refs(get_element_references(element))\n",
    "                  for element in elements]"
   ]
  },
  {
   "cell_type": "code",
   "execution_count": 4,
   "metadata": {},
   "outputs": [],
   "source": [
    "indra_groundings = set(get_prioritized_db_refs_key(db_refs) for db_refs in indra_mappings if db_refs)"
   ]
  },
  {
   "cell_type": "markdown",
   "metadata": {},
   "source": [
    "Filter down to all the human genes"
   ]
  },
  {
   "cell_type": "code",
   "execution_count": 5,
   "metadata": {},
   "outputs": [],
   "source": [
    "human_genes = {entry for entry in indra_groundings if entry[0] == 'HGNC'}"
   ]
  },
  {
   "cell_type": "code",
   "execution_count": 12,
   "metadata": {},
   "outputs": [
    {
     "ename": "SyntaxError",
     "evalue": "unexpected EOF while parsing (<ipython-input-12-9f83b0a2bbfc>, line 1)",
     "output_type": "error",
     "traceback": [
      "\u001b[0;36m  File \u001b[0;32m\"<ipython-input-12-9f83b0a2bbfc>\"\u001b[0;36m, line \u001b[0;32m1\u001b[0m\n\u001b[0;31m    print('We found a total of %d human genes in the %s model' % (len(human_genes), pathway_name)\u001b[0m\n\u001b[0m                                                                                                 ^\u001b[0m\n\u001b[0;31mSyntaxError\u001b[0m\u001b[0;31m:\u001b[0m unexpected EOF while parsing\n"
     ]
    }
   ],
   "source": [
    "print('We found a total of %d human genes in the %s model' % (len(human_genes), pathway_name)"
   ]
  },
  {
   "cell_type": "markdown",
   "metadata": {},
   "source": [
    "We can now turn to the INDRA DB and find Inhibition statements targeting each of these human genes in the pathway of interest. We filter regulators to ones grounded to small molecule name spaces. We also filter out statements that have been curated as incorrect."
   ]
  },
  {
   "cell_type": "code",
   "execution_count": 7,
   "metadata": {},
   "outputs": [],
   "source": [
    "from indra.sources import indra_db_rest\n",
    "from indra.tools import assemble_corpus as ac\n",
    "try:\n",
    "    from indra_db import get_db\n",
    "    from indra_db.client.principal.curation import get_curations\n",
    "    curs = get_curations(get_db('primary'))\n",
    "except Exception:\n",
    "    curs = []"
   ]
  },
  {
   "cell_type": "code",
   "execution_count": 8,
   "metadata": {},
   "outputs": [
    {
     "name": "stderr",
     "output_type": "stream",
     "text": [
      "INFO: [2021-02-22 12:16:35] indra.sources.indra_db_rest.util - query: https://db.indra.bio/statements/from_agents?object=12036@HGNC&offset=0&type=Inhibition\n",
      "INFO: [2021-02-22 12:16:35] indra.sources.indra_db_rest.util - params: {'ev_limit': 200, 'best_first': True, 'api_key': '[api-key]'}\n",
      "INFO: [2021-02-22 12:16:39] indra.tools.assemble_corpus - Filtering 37 statements with any incorrect curations...\n",
      "INFO: [2021-02-22 12:16:39] indra.tools.assemble_corpus - 37 statements after filter...\n",
      "INFO: [2021-02-22 12:16:39] indra.sources.indra_db_rest.util - query: https://db.indra.bio/statements/from_agents?object=12033@HGNC&offset=0&type=Inhibition\n",
      "INFO: [2021-02-22 12:16:39] indra.sources.indra_db_rest.util - params: {'ev_limit': 200, 'best_first': True, 'api_key': '[api-key]'}\n",
      "INFO: [2021-02-22 12:16:42] indra.tools.assemble_corpus - Filtering 18 statements with any incorrect curations...\n",
      "INFO: [2021-02-22 12:16:42] indra.tools.assemble_corpus - 18 statements after filter...\n",
      "INFO: [2021-02-22 12:16:42] indra.sources.indra_db_rest.util - query: https://db.indra.bio/statements/from_agents?object=8088@HGNC&offset=0&type=Inhibition\n",
      "INFO: [2021-02-22 12:16:42] indra.sources.indra_db_rest.util - params: {'ev_limit': 200, 'best_first': True, 'api_key': '[api-key]'}\n",
      "INFO: [2021-02-22 12:16:43] indra.tools.assemble_corpus - Filtering 1 statements with any incorrect curations...\n",
      "INFO: [2021-02-22 12:16:43] indra.tools.assemble_corpus - 1 statements after filter...\n",
      "INFO: [2021-02-22 12:16:43] indra.sources.indra_db_rest.util - query: https://db.indra.bio/statements/from_agents?object=7562@HGNC&offset=0&type=Inhibition\n",
      "INFO: [2021-02-22 12:16:43] indra.sources.indra_db_rest.util - params: {'ev_limit': 200, 'best_first': True, 'api_key': '[api-key]'}\n",
      "INFO: [2021-02-22 12:16:47] indra.sources.indra_db_rest.util - query: https://db.indra.bio/statements/from_agents?object=7562@HGNC&offset=500&type=Inhibition\n",
      "INFO: [2021-02-22 12:16:47] indra.sources.indra_db_rest.util - params: {'ev_limit': 200, 'best_first': True, 'api_key': '[api-key]'}\n",
      "INFO: [2021-02-22 12:16:49] indra.tools.assemble_corpus - Filtering 87 statements with any incorrect curations...\n",
      "INFO: [2021-02-22 12:16:49] indra.tools.assemble_corpus - 86 statements after filter...\n",
      "INFO: [2021-02-22 12:16:49] indra.sources.indra_db_rest.util - query: https://db.indra.bio/statements/from_agents?object=8087@HGNC&offset=0&type=Inhibition\n",
      "INFO: [2021-02-22 12:16:49] indra.sources.indra_db_rest.util - params: {'ev_limit': 200, 'best_first': True, 'api_key': '[api-key]'}\n",
      "INFO: [2021-02-22 12:16:50] indra.tools.assemble_corpus - Filtering 4 statements with any incorrect curations...\n",
      "INFO: [2021-02-22 12:16:50] indra.tools.assemble_corpus - 4 statements after filter...\n",
      "INFO: [2021-02-22 12:16:50] indra.sources.indra_db_rest.util - query: https://db.indra.bio/statements/from_agents?object=21158@HGNC&offset=0&type=Inhibition\n",
      "INFO: [2021-02-22 12:16:50] indra.sources.indra_db_rest.util - params: {'ev_limit': 200, 'best_first': True, 'api_key': '[api-key]'}\n",
      "INFO: [2021-02-22 12:16:51] indra.tools.assemble_corpus - Filtering 1 statements with any incorrect curations...\n",
      "INFO: [2021-02-22 12:16:51] indra.tools.assemble_corpus - 1 statements after filter...\n",
      "INFO: [2021-02-22 12:16:51] indra.sources.indra_db_rest.util - query: https://db.indra.bio/statements/from_agents?object=16400@HGNC&offset=0&type=Inhibition\n",
      "INFO: [2021-02-22 12:16:51] indra.sources.indra_db_rest.util - params: {'ev_limit': 200, 'best_first': True, 'api_key': '[api-key]'}\n",
      "INFO: [2021-02-22 12:16:58] indra.sources.indra_db_rest.util - query: https://db.indra.bio/statements/from_agents?object=16400@HGNC&offset=500&type=Inhibition\n",
      "INFO: [2021-02-22 12:16:58] indra.sources.indra_db_rest.util - params: {'ev_limit': 200, 'best_first': True, 'api_key': '[api-key]'}\n",
      "INFO: [2021-02-22 12:17:01] indra.sources.indra_db_rest.util - query: https://db.indra.bio/statements/from_agents?object=16400@HGNC&offset=1000&type=Inhibition\n",
      "INFO: [2021-02-22 12:17:01] indra.sources.indra_db_rest.util - params: {'ev_limit': 200, 'best_first': True, 'api_key': '[api-key]'}\n",
      "INFO: [2021-02-22 12:17:04] indra.tools.assemble_corpus - Filtering 317 statements with any incorrect curations...\n",
      "INFO: [2021-02-22 12:17:04] indra.tools.assemble_corpus - 316 statements after filter...\n",
      "INFO: [2021-02-22 12:17:04] indra.sources.indra_db_rest.util - query: https://db.indra.bio/statements/from_agents?object=18873@HGNC&offset=0&type=Inhibition\n",
      "INFO: [2021-02-22 12:17:04] indra.sources.indra_db_rest.util - params: {'ev_limit': 200, 'best_first': True, 'api_key': '[api-key]'}\n",
      "INFO: [2021-02-22 12:17:07] indra.tools.assemble_corpus - Filtering 31 statements with any incorrect curations...\n",
      "INFO: [2021-02-22 12:17:07] indra.tools.assemble_corpus - 31 statements after filter...\n",
      "INFO: [2021-02-22 12:17:07] indra.sources.indra_db_rest.util - query: https://db.indra.bio/statements/from_agents?object=30807@HGNC&offset=0&type=Inhibition\n",
      "INFO: [2021-02-22 12:17:07] indra.sources.indra_db_rest.util - params: {'ev_limit': 200, 'best_first': True, 'api_key': '[api-key]'}\n",
      "INFO: [2021-02-22 12:17:08] indra.tools.assemble_corpus - Filtering 0 statements with any incorrect curations...\n",
      "INFO: [2021-02-22 12:17:08] indra.tools.assemble_corpus - 0 statements after filter...\n",
      "INFO: [2021-02-22 12:17:08] indra.sources.indra_db_rest.util - query: https://db.indra.bio/statements/from_agents?object=24921@HGNC&offset=0&type=Inhibition\n",
      "INFO: [2021-02-22 12:17:08] indra.sources.indra_db_rest.util - params: {'ev_limit': 200, 'best_first': True, 'api_key': '[api-key]'}\n",
      "INFO: [2021-02-22 12:17:09] indra.tools.assemble_corpus - Filtering 35 statements with any incorrect curations...\n",
      "INFO: [2021-02-22 12:17:09] indra.tools.assemble_corpus - 35 statements after filter...\n",
      "INFO: [2021-02-22 12:17:09] indra.sources.indra_db_rest.util - query: https://db.indra.bio/statements/from_agents?object=6204@HGNC&offset=0&type=Inhibition\n",
      "INFO: [2021-02-22 12:17:09] indra.sources.indra_db_rest.util - params: {'ev_limit': 200, 'best_first': True, 'api_key': '[api-key]'}\n",
      "INFO: [2021-02-22 12:17:17] indra.sources.indra_db_rest.util - query: https://db.indra.bio/statements/from_agents?object=6204@HGNC&offset=500&type=Inhibition\n",
      "INFO: [2021-02-22 12:17:17] indra.sources.indra_db_rest.util - params: {'ev_limit': 200, 'best_first': True, 'api_key': '[api-key]'}\n",
      "INFO: [2021-02-22 12:17:19] indra.sources.indra_db_rest.util - query: https://db.indra.bio/statements/from_agents?object=6204@HGNC&offset=1000&type=Inhibition\n",
      "INFO: [2021-02-22 12:17:19] indra.sources.indra_db_rest.util - params: {'ev_limit': 200, 'best_first': True, 'api_key': '[api-key]'}\n",
      "INFO: [2021-02-22 12:17:20] indra.tools.assemble_corpus - Filtering 226 statements with any incorrect curations...\n",
      "INFO: [2021-02-22 12:17:21] indra.tools.assemble_corpus - 226 statements after filter...\n",
      "INFO: [2021-02-22 12:17:21] indra.sources.indra_db_rest.util - query: https://db.indra.bio/statements/from_agents?object=6881@HGNC&offset=0&type=Inhibition\n",
      "INFO: [2021-02-22 12:17:21] indra.sources.indra_db_rest.util - params: {'ev_limit': 200, 'best_first': True, 'api_key': '[api-key]'}\n",
      "INFO: [2021-02-22 12:17:25] indra.sources.indra_db_rest.util - query: https://db.indra.bio/statements/from_agents?object=6881@HGNC&offset=500&type=Inhibition\n",
      "INFO: [2021-02-22 12:17:25] indra.sources.indra_db_rest.util - params: {'ev_limit': 200, 'best_first': True, 'api_key': '[api-key]'}\n",
      "INFO: [2021-02-22 12:17:26] indra.tools.assemble_corpus - Filtering 153 statements with any incorrect curations...\n",
      "INFO: [2021-02-22 12:17:26] indra.tools.assemble_corpus - 153 statements after filter...\n",
      "INFO: [2021-02-22 12:17:26] indra.sources.indra_db_rest.util - query: https://db.indra.bio/statements/from_agents?object=11362@HGNC&offset=0&type=Inhibition\n",
      "INFO: [2021-02-22 12:17:26] indra.sources.indra_db_rest.util - params: {'ev_limit': 200, 'best_first': True, 'api_key': '[api-key]'}\n",
      "INFO: [2021-02-22 12:17:32] indra.sources.indra_db_rest.util - query: https://db.indra.bio/statements/from_agents?object=11362@HGNC&offset=500&type=Inhibition\n",
      "INFO: [2021-02-22 12:17:32] indra.sources.indra_db_rest.util - params: {'ev_limit': 200, 'best_first': True, 'api_key': '[api-key]'}\n"
     ]
    },
    {
     "name": "stderr",
     "output_type": "stream",
     "text": [
      "INFO: [2021-02-22 12:17:35] indra.sources.indra_db_rest.util - query: https://db.indra.bio/statements/from_agents?object=11362@HGNC&offset=1000&type=Inhibition\n",
      "INFO: [2021-02-22 12:17:35] indra.sources.indra_db_rest.util - params: {'ev_limit': 200, 'best_first': True, 'api_key': '[api-key]'}\n",
      "INFO: [2021-02-22 12:17:36] indra.tools.assemble_corpus - Filtering 178 statements with any incorrect curations...\n",
      "INFO: [2021-02-22 12:17:36] indra.tools.assemble_corpus - 177 statements after filter...\n",
      "INFO: [2021-02-22 12:17:36] indra.sources.indra_db_rest.util - query: https://db.indra.bio/statements/from_agents?object=5433@HGNC&offset=0&type=Inhibition\n",
      "INFO: [2021-02-22 12:17:36] indra.sources.indra_db_rest.util - params: {'ev_limit': 200, 'best_first': True, 'api_key': '[api-key]'}\n",
      "INFO: [2021-02-22 12:17:38] indra.tools.assemble_corpus - Filtering 6 statements with any incorrect curations...\n",
      "INFO: [2021-02-22 12:17:38] indra.tools.assemble_corpus - 6 statements after filter...\n",
      "INFO: [2021-02-22 12:17:38] indra.sources.indra_db_rest.util - query: https://db.indra.bio/statements/from_agents?object=5434@HGNC&offset=0&type=Inhibition\n",
      "INFO: [2021-02-22 12:17:38] indra.sources.indra_db_rest.util - params: {'ev_limit': 200, 'best_first': True, 'api_key': '[api-key]'}\n",
      "INFO: [2021-02-22 12:17:45] indra.sources.indra_db_rest.util - query: https://db.indra.bio/statements/from_agents?object=5434@HGNC&offset=500&type=Inhibition\n",
      "INFO: [2021-02-22 12:17:45] indra.sources.indra_db_rest.util - params: {'ev_limit': 200, 'best_first': True, 'api_key': '[api-key]'}\n",
      "INFO: [2021-02-22 12:17:47] indra.sources.indra_db_rest.util - query: https://db.indra.bio/statements/from_agents?object=5434@HGNC&offset=1000&type=Inhibition\n",
      "INFO: [2021-02-22 12:17:47] indra.sources.indra_db_rest.util - params: {'ev_limit': 200, 'best_first': True, 'api_key': '[api-key]'}\n",
      "INFO: [2021-02-22 12:17:49] indra.sources.indra_db_rest.util - query: https://db.indra.bio/statements/from_agents?object=5434@HGNC&offset=1500&type=Inhibition\n",
      "INFO: [2021-02-22 12:17:49] indra.sources.indra_db_rest.util - params: {'ev_limit': 200, 'best_first': True, 'api_key': '[api-key]'}\n",
      "INFO: [2021-02-22 12:17:51] indra.tools.assemble_corpus - Filtering 138 statements with any incorrect curations...\n",
      "INFO: [2021-02-22 12:17:51] indra.tools.assemble_corpus - 137 statements after filter...\n",
      "INFO: [2021-02-22 12:17:51] indra.sources.indra_db_rest.util - query: https://db.indra.bio/statements/from_agents?object=5960@HGNC&offset=0&type=Inhibition\n",
      "INFO: [2021-02-22 12:17:51] indra.sources.indra_db_rest.util - params: {'ev_limit': 200, 'best_first': True, 'api_key': '[api-key]'}\n",
      "INFO: [2021-02-22 12:17:55] indra.sources.indra_db_rest.util - query: https://db.indra.bio/statements/from_agents?object=5960@HGNC&offset=500&type=Inhibition\n",
      "INFO: [2021-02-22 12:17:55] indra.sources.indra_db_rest.util - params: {'ev_limit': 200, 'best_first': True, 'api_key': '[api-key]'}\n",
      "INFO: [2021-02-22 12:17:56] indra.tools.assemble_corpus - Filtering 156 statements with any incorrect curations...\n",
      "INFO: [2021-02-22 12:17:56] indra.tools.assemble_corpus - 156 statements after filter...\n",
      "INFO: [2021-02-22 12:17:56] indra.sources.indra_db_rest.util - query: https://db.indra.bio/statements/from_agents?object=27962@HGNC&offset=0&type=Inhibition\n",
      "INFO: [2021-02-22 12:17:56] indra.sources.indra_db_rest.util - params: {'ev_limit': 200, 'best_first': True, 'api_key': '[api-key]'}\n",
      "INFO: [2021-02-22 12:17:59] indra.tools.assemble_corpus - Filtering 29 statements with any incorrect curations...\n",
      "INFO: [2021-02-22 12:17:59] indra.tools.assemble_corpus - 29 statements after filter...\n",
      "INFO: [2021-02-22 12:17:59] indra.sources.indra_db_rest.util - query: https://db.indra.bio/statements/from_agents?object=14552@HGNC&offset=0&type=Inhibition\n",
      "INFO: [2021-02-22 12:17:59] indra.sources.indra_db_rest.util - params: {'ev_limit': 200, 'best_first': True, 'api_key': '[api-key]'}\n",
      "INFO: [2021-02-22 12:18:01] indra.tools.assemble_corpus - Filtering 40 statements with any incorrect curations...\n",
      "INFO: [2021-02-22 12:18:01] indra.tools.assemble_corpus - 40 statements after filter...\n",
      "INFO: [2021-02-22 12:18:01] indra.sources.indra_db_rest.util - query: https://db.indra.bio/statements/from_agents?object=6876@HGNC&offset=0&type=Inhibition\n",
      "INFO: [2021-02-22 12:18:01] indra.sources.indra_db_rest.util - params: {'ev_limit': 200, 'best_first': True, 'api_key': '[api-key]'}\n",
      "INFO: [2021-02-22 12:18:04] indra.tools.assemble_corpus - Filtering 217 statements with any incorrect curations...\n",
      "INFO: [2021-02-22 12:18:04] indra.tools.assemble_corpus - 217 statements after filter...\n",
      "INFO: [2021-02-22 12:18:04] indra.sources.indra_db_rest.util - query: https://db.indra.bio/statements/from_agents?object=10019@HGNC&offset=0&type=Inhibition\n",
      "INFO: [2021-02-22 12:18:04] indra.sources.indra_db_rest.util - params: {'ev_limit': 200, 'best_first': True, 'api_key': '[api-key]'}\n",
      "INFO: [2021-02-22 12:18:09] indra.tools.assemble_corpus - Filtering 66 statements with any incorrect curations...\n",
      "INFO: [2021-02-22 12:18:09] indra.tools.assemble_corpus - 66 statements after filter...\n",
      "INFO: [2021-02-22 12:18:09] indra.sources.indra_db_rest.util - query: https://db.indra.bio/statements/from_agents?object=29233@HGNC&offset=0&type=Inhibition\n",
      "INFO: [2021-02-22 12:18:09] indra.sources.indra_db_rest.util - params: {'ev_limit': 200, 'best_first': True, 'api_key': '[api-key]'}\n",
      "INFO: [2021-02-22 12:18:12] indra.tools.assemble_corpus - Filtering 25 statements with any incorrect curations...\n",
      "INFO: [2021-02-22 12:18:12] indra.tools.assemble_corpus - 25 statements after filter...\n",
      "INFO: [2021-02-22 12:18:12] indra.sources.indra_db_rest.util - query: https://db.indra.bio/statements/from_agents?object=6118@HGNC&offset=0&type=Inhibition\n",
      "INFO: [2021-02-22 12:18:12] indra.sources.indra_db_rest.util - params: {'ev_limit': 200, 'best_first': True, 'api_key': '[api-key]'}\n",
      "INFO: [2021-02-22 12:18:18] indra.sources.indra_db_rest.util - query: https://db.indra.bio/statements/from_agents?object=6118@HGNC&offset=500&type=Inhibition\n",
      "INFO: [2021-02-22 12:18:18] indra.sources.indra_db_rest.util - params: {'ev_limit': 200, 'best_first': True, 'api_key': '[api-key]'}\n",
      "INFO: [2021-02-22 12:18:21] indra.tools.assemble_corpus - Filtering 69 statements with any incorrect curations...\n",
      "INFO: [2021-02-22 12:18:21] indra.tools.assemble_corpus - 68 statements after filter...\n",
      "INFO: [2021-02-22 12:18:21] indra.sources.indra_db_rest.util - query: https://db.indra.bio/statements/from_agents?object=9955@HGNC&offset=0&type=Inhibition\n",
      "INFO: [2021-02-22 12:18:21] indra.sources.indra_db_rest.util - params: {'ev_limit': 200, 'best_first': True, 'api_key': '[api-key]'}\n",
      "INFO: [2021-02-22 12:18:30] indra.sources.indra_db_rest.util - query: https://db.indra.bio/statements/from_agents?object=9955@HGNC&offset=500&type=Inhibition\n",
      "INFO: [2021-02-22 12:18:30] indra.sources.indra_db_rest.util - params: {'ev_limit': 200, 'best_first': True, 'api_key': '[api-key]'}\n",
      "INFO: [2021-02-22 12:18:32] indra.sources.indra_db_rest.util - query: https://db.indra.bio/statements/from_agents?object=9955@HGNC&offset=1000&type=Inhibition\n",
      "INFO: [2021-02-22 12:18:32] indra.sources.indra_db_rest.util - params: {'ev_limit': 200, 'best_first': True, 'api_key': '[api-key]'}\n",
      "INFO: [2021-02-22 12:18:34] indra.sources.indra_db_rest.util - query: https://db.indra.bio/statements/from_agents?object=9955@HGNC&offset=1500&type=Inhibition\n",
      "INFO: [2021-02-22 12:18:34] indra.sources.indra_db_rest.util - params: {'ev_limit': 200, 'best_first': True, 'api_key': '[api-key]'}\n",
      "INFO: [2021-02-22 12:18:36] indra.tools.assemble_corpus - Filtering 386 statements with any incorrect curations...\n",
      "INFO: [2021-02-22 12:18:36] indra.tools.assemble_corpus - 385 statements after filter...\n",
      "INFO: [2021-02-22 12:18:36] indra.sources.indra_db_rest.util - query: https://db.indra.bio/statements/from_agents?object=19102@HGNC&offset=0&type=Inhibition\n",
      "INFO: [2021-02-22 12:18:36] indra.sources.indra_db_rest.util - params: {'ev_limit': 200, 'best_first': True, 'api_key': '[api-key]'}\n",
      "INFO: [2021-02-22 12:18:41] indra.sources.indra_db_rest.util - query: https://db.indra.bio/statements/from_agents?object=19102@HGNC&offset=500&type=Inhibition\n"
     ]
    },
    {
     "name": "stderr",
     "output_type": "stream",
     "text": [
      "INFO: [2021-02-22 12:18:41] indra.sources.indra_db_rest.util - params: {'ev_limit': 200, 'best_first': True, 'api_key': '[api-key]'}\n",
      "INFO: [2021-02-22 12:18:42] indra.tools.assemble_corpus - Filtering 40 statements with any incorrect curations...\n",
      "INFO: [2021-02-22 12:18:42] indra.tools.assemble_corpus - 40 statements after filter...\n",
      "INFO: [2021-02-22 12:18:42] indra.sources.indra_db_rest.util - query: https://db.indra.bio/statements/from_agents?object=15631@HGNC&offset=0&type=Inhibition\n",
      "INFO: [2021-02-22 12:18:42] indra.sources.indra_db_rest.util - params: {'ev_limit': 200, 'best_first': True, 'api_key': '[api-key]'}\n",
      "INFO: [2021-02-22 12:18:45] indra.tools.assemble_corpus - Filtering 43 statements with any incorrect curations...\n",
      "INFO: [2021-02-22 12:18:45] indra.tools.assemble_corpus - 39 statements after filter...\n",
      "INFO: [2021-02-22 12:18:45] indra.sources.indra_db_rest.util - query: https://db.indra.bio/statements/from_agents?object=6131@HGNC&offset=0&type=Inhibition\n",
      "INFO: [2021-02-22 12:18:45] indra.sources.indra_db_rest.util - params: {'ev_limit': 200, 'best_first': True, 'api_key': '[api-key]'}\n",
      "INFO: [2021-02-22 12:18:47] indra.tools.assemble_corpus - Filtering 5 statements with any incorrect curations...\n",
      "INFO: [2021-02-22 12:18:47] indra.tools.assemble_corpus - 5 statements after filter...\n",
      "INFO: [2021-02-22 12:18:47] indra.sources.indra_db_rest.util - query: https://db.indra.bio/statements/from_agents?object=11363@HGNC&offset=0&type=Inhibition\n",
      "INFO: [2021-02-22 12:18:47] indra.sources.indra_db_rest.util - params: {'ev_limit': 200, 'best_first': True, 'api_key': '[api-key]'}\n",
      "INFO: [2021-02-22 12:18:49] indra.tools.assemble_corpus - Filtering 15 statements with any incorrect curations...\n",
      "INFO: [2021-02-22 12:18:49] indra.tools.assemble_corpus - 15 statements after filter...\n",
      "INFO: [2021-02-22 12:18:49] indra.sources.indra_db_rest.util - query: https://db.indra.bio/statements/from_agents?object=12440@HGNC&offset=0&type=Inhibition\n",
      "INFO: [2021-02-22 12:18:49] indra.sources.indra_db_rest.util - params: {'ev_limit': 200, 'best_first': True, 'api_key': '[api-key]'}\n",
      "INFO: [2021-02-22 12:18:51] indra.tools.assemble_corpus - Filtering 68 statements with any incorrect curations...\n",
      "INFO: [2021-02-22 12:18:51] indra.tools.assemble_corpus - 67 statements after filter...\n",
      "INFO: [2021-02-22 12:18:51] indra.sources.indra_db_rest.util - query: https://db.indra.bio/statements/from_agents?object=18348@HGNC&offset=0&type=Inhibition\n",
      "INFO: [2021-02-22 12:18:51] indra.sources.indra_db_rest.util - params: {'ev_limit': 200, 'best_first': True, 'api_key': '[api-key]'}\n",
      "INFO: [2021-02-22 12:18:53] indra.tools.assemble_corpus - Filtering 33 statements with any incorrect curations...\n",
      "INFO: [2021-02-22 12:18:53] indra.tools.assemble_corpus - 33 statements after filter...\n",
      "INFO: [2021-02-22 12:18:53] indra.sources.indra_db_rest.util - query: https://db.indra.bio/statements/from_agents?object=11584@HGNC&offset=0&type=Inhibition\n",
      "INFO: [2021-02-22 12:18:53] indra.sources.indra_db_rest.util - params: {'ev_limit': 200, 'best_first': True, 'api_key': '[api-key]'}\n",
      "INFO: [2021-02-22 12:18:56] indra.tools.assemble_corpus - Filtering 75 statements with any incorrect curations...\n",
      "INFO: [2021-02-22 12:18:56] indra.tools.assemble_corpus - 70 statements after filter...\n",
      "INFO: [2021-02-22 12:18:56] indra.sources.indra_db_rest.util - query: https://db.indra.bio/statements/from_agents?object=7794@HGNC&offset=0&type=Inhibition\n",
      "INFO: [2021-02-22 12:18:56] indra.sources.indra_db_rest.util - params: {'ev_limit': 200, 'best_first': True, 'api_key': '[api-key]'}\n",
      "INFO: [2021-02-22 12:19:01] indra.sources.indra_db_rest.util - query: https://db.indra.bio/statements/from_agents?object=7794@HGNC&offset=500&type=Inhibition\n",
      "INFO: [2021-02-22 12:19:01] indra.sources.indra_db_rest.util - params: {'ev_limit': 200, 'best_first': True, 'api_key': '[api-key]'}\n",
      "INFO: [2021-02-22 12:19:02] indra.tools.assemble_corpus - Filtering 228 statements with any incorrect curations...\n",
      "INFO: [2021-02-22 12:19:02] indra.tools.assemble_corpus - 227 statements after filter...\n",
      "INFO: [2021-02-22 12:19:02] indra.sources.indra_db_rest.util - query: https://db.indra.bio/statements/from_agents?object=12932@HGNC&offset=0&type=Inhibition\n",
      "INFO: [2021-02-22 12:19:02] indra.sources.indra_db_rest.util - params: {'ev_limit': 200, 'best_first': True, 'api_key': '[api-key]'}\n",
      "INFO: [2021-02-22 12:19:05] indra.tools.assemble_corpus - Filtering 17 statements with any incorrect curations...\n",
      "INFO: [2021-02-22 12:19:05] indra.tools.assemble_corpus - 17 statements after filter...\n",
      "INFO: [2021-02-22 12:19:05] indra.sources.indra_db_rest.util - query: https://db.indra.bio/statements/from_agents?object=6190@HGNC&offset=0&type=Inhibition\n",
      "INFO: [2021-02-22 12:19:05] indra.sources.indra_db_rest.util - params: {'ev_limit': 200, 'best_first': True, 'api_key': '[api-key]'}\n",
      "INFO: [2021-02-22 12:19:09] indra.tools.assemble_corpus - Filtering 116 statements with any incorrect curations...\n",
      "INFO: [2021-02-22 12:19:09] indra.tools.assemble_corpus - 116 statements after filter...\n",
      "INFO: [2021-02-22 12:19:09] indra.sources.indra_db_rest.util - query: https://db.indra.bio/statements/from_agents?object=11562@HGNC&offset=0&type=Inhibition\n",
      "INFO: [2021-02-22 12:19:09] indra.sources.indra_db_rest.util - params: {'ev_limit': 200, 'best_first': True, 'api_key': '[api-key]'}\n",
      "INFO: [2021-02-22 12:19:10] indra.tools.assemble_corpus - Filtering 13 statements with any incorrect curations...\n",
      "INFO: [2021-02-22 12:19:10] indra.tools.assemble_corpus - 13 statements after filter...\n",
      "INFO: [2021-02-22 12:19:10] indra.sources.indra_db_rest.util - query: https://db.indra.bio/statements/from_agents?object=5432@HGNC&offset=0&type=Inhibition\n",
      "INFO: [2021-02-22 12:19:10] indra.sources.indra_db_rest.util - params: {'ev_limit': 200, 'best_first': True, 'api_key': '[api-key]'}\n",
      "INFO: [2021-02-22 12:19:12] indra.tools.assemble_corpus - Filtering 15 statements with any incorrect curations...\n",
      "INFO: [2021-02-22 12:19:12] indra.tools.assemble_corpus - 15 statements after filter...\n",
      "INFO: [2021-02-22 12:19:12] indra.sources.indra_db_rest.util - query: https://db.indra.bio/statements/from_agents?object=6122@HGNC&offset=0&type=Inhibition\n",
      "INFO: [2021-02-22 12:19:12] indra.sources.indra_db_rest.util - params: {'ev_limit': 200, 'best_first': True, 'api_key': '[api-key]'}\n",
      "INFO: [2021-02-22 12:19:14] indra.tools.assemble_corpus - Filtering 28 statements with any incorrect curations...\n",
      "INFO: [2021-02-22 12:19:14] indra.tools.assemble_corpus - 28 statements after filter...\n",
      "INFO: [2021-02-22 12:19:14] indra.sources.indra_db_rest.util - query: https://db.indra.bio/statements/from_agents?object=13890@HGNC&offset=0&type=Inhibition\n",
      "INFO: [2021-02-22 12:19:14] indra.sources.indra_db_rest.util - params: {'ev_limit': 200, 'best_first': True, 'api_key': '[api-key]'}\n",
      "INFO: [2021-02-22 12:19:18] indra.tools.assemble_corpus - Filtering 104 statements with any incorrect curations...\n",
      "INFO: [2021-02-22 12:19:18] indra.tools.assemble_corpus - 103 statements after filter...\n",
      "INFO: [2021-02-22 12:19:18] indra.sources.indra_db_rest.util - query: https://db.indra.bio/statements/from_agents?object=1974@HGNC&offset=0&type=Inhibition\n",
      "INFO: [2021-02-22 12:19:18] indra.sources.indra_db_rest.util - params: {'ev_limit': 200, 'best_first': True, 'api_key': '[api-key]'}\n",
      "INFO: [2021-02-22 12:19:20] indra.tools.assemble_corpus - Filtering 100 statements with any incorrect curations...\n",
      "INFO: [2021-02-22 12:19:20] indra.tools.assemble_corpus - 100 statements after filter...\n",
      "INFO: [2021-02-22 12:19:20] indra.sources.indra_db_rest.util - query: https://db.indra.bio/statements/from_agents?object=5961@HGNC&offset=0&type=Inhibition\n",
      "INFO: [2021-02-22 12:19:20] indra.sources.indra_db_rest.util - params: {'ev_limit': 200, 'best_first': True, 'api_key': '[api-key]'}\n",
      "INFO: [2021-02-22 12:19:23] indra.tools.assemble_corpus - Filtering 12 statements with any incorrect curations...\n",
      "INFO: [2021-02-22 12:19:23] indra.tools.assemble_corpus - 12 statements after filter...\n",
      "INFO: [2021-02-22 12:19:23] indra.sources.indra_db_rest.util - query: https://db.indra.bio/statements/from_agents?object=3796@HGNC&offset=0&type=Inhibition\n",
      "INFO: [2021-02-22 12:19:23] indra.sources.indra_db_rest.util - params: {'ev_limit': 200, 'best_first': True, 'api_key': '[api-key]'}\n"
     ]
    },
    {
     "name": "stderr",
     "output_type": "stream",
     "text": [
      "INFO: [2021-02-22 12:19:28] indra.sources.indra_db_rest.util - query: https://db.indra.bio/statements/from_agents?object=3796@HGNC&offset=500&type=Inhibition\n",
      "INFO: [2021-02-22 12:19:28] indra.sources.indra_db_rest.util - params: {'ev_limit': 200, 'best_first': True, 'api_key': '[api-key]'}\n",
      "INFO: [2021-02-22 12:19:30] indra.tools.assemble_corpus - Filtering 213 statements with any incorrect curations...\n",
      "INFO: [2021-02-22 12:19:30] indra.tools.assemble_corpus - 213 statements after filter...\n",
      "INFO: [2021-02-22 12:19:30] indra.sources.indra_db_rest.util - query: https://db.indra.bio/statements/from_agents?object=7797@HGNC&offset=0&type=Inhibition\n",
      "INFO: [2021-02-22 12:19:30] indra.sources.indra_db_rest.util - params: {'ev_limit': 200, 'best_first': True, 'api_key': '[api-key]'}\n",
      "INFO: [2021-02-22 12:19:37] indra.sources.indra_db_rest.util - query: https://db.indra.bio/statements/from_agents?object=7797@HGNC&offset=500&type=Inhibition\n",
      "INFO: [2021-02-22 12:19:37] indra.sources.indra_db_rest.util - params: {'ev_limit': 200, 'best_first': True, 'api_key': '[api-key]'}\n",
      "INFO: [2021-02-22 12:19:39] indra.sources.indra_db_rest.util - query: https://db.indra.bio/statements/from_agents?object=7797@HGNC&offset=1000&type=Inhibition\n",
      "INFO: [2021-02-22 12:19:39] indra.sources.indra_db_rest.util - params: {'ev_limit': 200, 'best_first': True, 'api_key': '[api-key]'}\n",
      "INFO: [2021-02-22 12:19:42] indra.tools.assemble_corpus - Filtering 247 statements with any incorrect curations...\n",
      "INFO: [2021-02-22 12:19:42] indra.tools.assemble_corpus - 247 statements after filter...\n",
      "INFO: [2021-02-22 12:19:42] indra.sources.indra_db_rest.util - query: https://db.indra.bio/statements/from_agents?object=1499@HGNC&offset=0&type=Inhibition\n",
      "INFO: [2021-02-22 12:19:42] indra.sources.indra_db_rest.util - params: {'ev_limit': 200, 'best_first': True, 'api_key': '[api-key]'}\n",
      "INFO: [2021-02-22 12:19:47] indra.sources.indra_db_rest.util - query: https://db.indra.bio/statements/from_agents?object=1499@HGNC&offset=500&type=Inhibition\n",
      "INFO: [2021-02-22 12:19:47] indra.sources.indra_db_rest.util - params: {'ev_limit': 200, 'best_first': True, 'api_key': '[api-key]'}\n",
      "INFO: [2021-02-22 12:19:49] indra.tools.assemble_corpus - Filtering 213 statements with any incorrect curations...\n",
      "INFO: [2021-02-22 12:19:49] indra.tools.assemble_corpus - 212 statements after filter...\n",
      "INFO: [2021-02-22 12:19:49] indra.sources.indra_db_rest.util - query: https://db.indra.bio/statements/from_agents?object=5417@HGNC&offset=0&type=Inhibition\n",
      "INFO: [2021-02-22 12:19:49] indra.sources.indra_db_rest.util - params: {'ev_limit': 200, 'best_first': True, 'api_key': '[api-key]'}\n",
      "INFO: [2021-02-22 12:19:50] indra.tools.assemble_corpus - Filtering 0 statements with any incorrect curations...\n",
      "INFO: [2021-02-22 12:19:50] indra.tools.assemble_corpus - 0 statements after filter...\n",
      "INFO: [2021-02-22 12:19:50] indra.sources.indra_db_rest.util - query: https://db.indra.bio/statements/from_agents?object=16608@HGNC&offset=0&type=Inhibition\n",
      "INFO: [2021-02-22 12:19:50] indra.sources.indra_db_rest.util - params: {'ev_limit': 200, 'best_first': True, 'api_key': '[api-key]'}\n",
      "INFO: [2021-02-22 12:19:53] indra.tools.assemble_corpus - Filtering 80 statements with any incorrect curations...\n",
      "INFO: [2021-02-22 12:19:53] indra.tools.assemble_corpus - 77 statements after filter...\n",
      "INFO: [2021-02-22 12:19:53] indra.sources.indra_db_rest.util - query: https://db.indra.bio/statements/from_agents?object=6859@HGNC&offset=0&type=Inhibition\n",
      "INFO: [2021-02-22 12:19:53] indra.sources.indra_db_rest.util - params: {'ev_limit': 200, 'best_first': True, 'api_key': '[api-key]'}\n",
      "INFO: [2021-02-22 12:19:56] indra.tools.assemble_corpus - Filtering 90 statements with any incorrect curations...\n",
      "INFO: [2021-02-22 12:19:56] indra.tools.assemble_corpus - 90 statements after filter...\n",
      "INFO: [2021-02-22 12:19:56] indra.sources.indra_db_rest.util - query: https://db.indra.bio/statements/from_agents?object=8086@HGNC&offset=0&type=Inhibition\n",
      "INFO: [2021-02-22 12:19:56] indra.sources.indra_db_rest.util - params: {'ev_limit': 200, 'best_first': True, 'api_key': '[api-key]'}\n",
      "INFO: [2021-02-22 12:19:58] indra.tools.assemble_corpus - Filtering 6 statements with any incorrect curations...\n",
      "INFO: [2021-02-22 12:19:58] indra.tools.assemble_corpus - 5 statements after filter...\n"
     ]
    }
   ],
   "source": [
    "inhibitors = {}\n",
    "for db_ns, db_id in human_genes:\n",
    "    ip = indra_db_rest.get_statements(object=f'{db_id}@{db_ns}', stmt_type='Inhibition',\n",
    "                                      ev_limit=200)\n",
    "    stmts = [s for s in ip.statements if set(s.subj.db_refs) & {'CHEBI', 'PUBCHEM', 'CAS', 'CHEMBL', 'DRUGBANK'}]\n",
    "    stmts = ac.filter_by_curation(stmts, curations=curs)\n",
    "    inhibitors[(db_ns, db_id)] = stmts"
   ]
  },
  {
   "cell_type": "markdown",
   "metadata": {},
   "source": [
    "We can now check how many targets there are small molecule inhibitors for"
   ]
  },
  {
   "cell_type": "code",
   "execution_count": 9,
   "metadata": {},
   "outputs": [
    {
     "name": "stdout",
     "output_type": "stream",
     "text": [
      "We found inhibitors for 46 of 44 targets\n"
     ]
    }
   ],
   "source": [
    "has_inhibitors = len([gene for gene, inhs in inhibitors.items() if inhs])\n",
    "print('We found inhibitors for %d of %d targets' % (len(inhibitors), has_inhibitors))"
   ]
  },
  {
   "cell_type": "markdown",
   "metadata": {},
   "source": [
    "Now dump the results into a pickle, and a set of HTML files"
   ]
  },
  {
   "cell_type": "code",
   "execution_count": 10,
   "metadata": {},
   "outputs": [],
   "source": [
    "import pickle\n",
    "with open('ifn1_inhibitors.pkl', 'wb') as fh:\n",
    "    pickle.dump(inhibitors, fh)"
   ]
  },
  {
   "cell_type": "code",
   "execution_count": 13,
   "metadata": {},
   "outputs": [
    {
     "name": "stderr",
     "output_type": "stream",
     "text": [
      "INFO: [2021-02-22 12:32:18] indra.assemblers.html.assembler - Removing CHEBI from refs due to too many matches: {'CHEBI:27363', '27363'}\n",
      "INFO: [2021-02-22 12:32:18] indra.assemblers.html.assembler - Removing CHEBI from refs due to too many matches: {'63959', 'CHEBI:63959'}\n",
      "INFO: [2021-02-22 12:32:18] indra.assemblers.html.assembler - Removing CHEBI from refs due to too many matches: {'CHEBI:27300', '27300'}\n",
      "INFO: [2021-02-22 12:32:18] indra.assemblers.html.assembler - Removing CHEBI from refs due to too many matches: {'48706', 'CHEBI:48706'}\n",
      "INFO: [2021-02-22 12:32:18] indra.assemblers.html.assembler - Removing CHEBI from refs due to too many matches: {'CHEBI:16243', '16243'}\n",
      "INFO: [2021-02-22 12:32:18] indra.assemblers.html.assembler - Removing CHEBI from refs due to too many matches: {'CHEBI:64208', 'CHEBI:90693'}\n",
      "INFO: [2021-02-22 12:32:18] indra.assemblers.html.assembler - Removing CHEBI from refs due to too many matches: {'CHEBI:24261', '24261'}\n",
      "INFO: [2021-02-22 12:32:18] indra.assemblers.html.assembler - Removing CHEBI from refs due to too many matches: {'CHEBI:15368', '15368'}\n",
      "INFO: [2021-02-22 12:32:19] indra.assemblers.html.assembler - Removing CHEBI from refs due to too many matches: {'CHEBI:64208', 'CHEBI:90693'}\n",
      "INFO: [2021-02-22 12:32:19] indra.assemblers.html.assembler - Removing CHEBI from refs due to too many matches: {'16118', 'CHEBI:16118'}\n",
      "INFO: [2021-02-22 12:32:19] indra.assemblers.html.assembler - Removing CHEBI from refs due to too many matches: {'CHEBI:27363', '27363'}\n",
      "INFO: [2021-02-22 12:32:19] indra.assemblers.html.assembler - Removing CHEBI from refs due to too many matches: {'CHEBI:16243', '16243'}\n",
      "INFO: [2021-02-22 12:32:19] indra.assemblers.html.assembler - Removing PUBCHEM from refs due to too many matches: {'5359476', '5339'}\n",
      "INFO: [2021-02-22 12:32:19] indra.assemblers.html.assembler - Removing PUBCHEM from refs due to too many matches: {'10461815', '66596670'}\n",
      "INFO: [2021-02-22 12:32:19] indra.assemblers.html.assembler - Removing CHEMBL from refs due to too many matches: {'CHEMBL450786', '450786'}\n",
      "INFO: [2021-02-22 12:32:19] indra.assemblers.html.assembler - Removing CHEBI from refs due to too many matches: {'CHEBI:82713', '82713'}\n",
      "INFO: [2021-02-22 12:32:19] indra.assemblers.html.assembler - Removing CHEBI from refs due to too many matches: {'CHEBI:64208', 'CHEBI:90693'}\n",
      "INFO: [2021-02-22 12:32:19] indra.assemblers.html.assembler - Removing CHEBI from refs due to too many matches: {'CHEBI:90544', '90544'}\n",
      "INFO: [2021-02-22 12:32:19] indra.assemblers.html.assembler - Removing PUBCHEM from refs due to too many matches: {'6021', '135398641'}\n",
      "INFO: [2021-02-22 12:32:20] indra.assemblers.html.assembler - Removing CAS from refs due to too many matches: {'20554-84-1', '29552-41-8'}\n",
      "INFO: [2021-02-22 12:32:20] indra.assemblers.html.assembler - Removing CHEBI from refs due to too many matches: {'131326', 'CHEBI:131326'}\n",
      "INFO: [2021-02-22 12:32:20] indra.assemblers.html.assembler - Removing CHEBI from refs due to too many matches: {'7754', 'CHEBI:7754'}\n",
      "INFO: [2021-02-22 12:32:20] indra.assemblers.html.assembler - Removing CHEBI from refs due to too many matches: {'48706', 'CHEBI:48706'}\n",
      "INFO: [2021-02-22 12:32:20] indra.assemblers.html.assembler - Removing CHEBI from refs due to too many matches: {'87103', 'CHEBI:87103'}\n",
      "INFO: [2021-02-22 12:32:20] indra.assemblers.html.assembler - Removing PUBCHEM from refs due to too many matches: {'10461815', '66596670'}\n",
      "INFO: [2021-02-22 12:32:20] indra.assemblers.html.assembler - Removing CHEMBL from refs due to too many matches: {'CHEMBL450786', '450786'}\n",
      "INFO: [2021-02-22 12:32:20] indra.assemblers.html.assembler - Removing CHEBI from refs due to too many matches: {'9642', 'CHEBI:9642'}\n",
      "INFO: [2021-02-22 12:32:20] indra.assemblers.html.assembler - Removing CHEBI from refs due to too many matches: {'87103', 'CHEBI:87103'}\n",
      "INFO: [2021-02-22 12:32:20] indra.assemblers.html.assembler - Removing CHEBI from refs due to too many matches: {'48706', 'CHEBI:48706'}\n",
      "INFO: [2021-02-22 12:32:21] indra.assemblers.html.assembler - Removing CHEBI from refs due to too many matches: {'CHEBI:27363', '27363'}\n",
      "INFO: [2021-02-22 12:32:21] indra.assemblers.html.assembler - Removing PUBCHEM from refs due to too many matches: {'5359476', '5339'}\n",
      "INFO: [2021-02-22 12:32:21] indra.assemblers.html.assembler - Removing CHEBI from refs due to too many matches: {'63959', 'CHEBI:63959'}\n",
      "INFO: [2021-02-22 12:32:21] indra.assemblers.html.assembler - Removing CHEBI from refs due to too many matches: {'CHEBI:64208', 'CHEBI:90693'}\n",
      "INFO: [2021-02-22 12:32:21] indra.assemblers.html.assembler - Removing CHEBI from refs due to too many matches: {'16118', 'CHEBI:16118'}\n",
      "INFO: [2021-02-22 12:32:21] indra.assemblers.html.assembler - Removing CHEBI from refs due to too many matches: {'CHEBI:64208', 'CHEBI:90693'}\n",
      "INFO: [2021-02-22 12:32:21] indra.assemblers.html.assembler - Removing PUBCHEM from refs due to too many matches: {'9863776', '68810458'}\n",
      "INFO: [2021-02-22 12:32:21] indra.assemblers.html.assembler - Removing CHEBI from refs due to too many matches: {'CHEBI:25053', 'CHEBI:23053'}\n",
      "INFO: [2021-02-22 12:32:21] indra.assemblers.html.assembler - Removing CHEBI from refs due to too many matches: {'CHEBI:27363', '27363'}\n",
      "INFO: [2021-02-22 12:32:22] indra.assemblers.html.assembler - Removing PUBCHEM from refs due to too many matches: {'9863776', '68810458'}\n",
      "INFO: [2021-02-22 12:32:22] indra.assemblers.html.assembler - Removing CHEBI from refs due to too many matches: {'63959', 'CHEBI:63959'}\n",
      "INFO: [2021-02-22 12:32:22] indra.assemblers.html.assembler - Removing CAS from refs due to too many matches: {'20554-84-1', '29552-41-8'}\n",
      "INFO: [2021-02-22 12:32:22] indra.assemblers.html.assembler - Removing CHEBI from refs due to too many matches: {'CHEBI:64208', 'CHEBI:90693'}\n",
      "INFO: [2021-02-22 12:32:22] indra.assemblers.html.assembler - Removing CHEBI from refs due to too many matches: {'48706', 'CHEBI:48706'}\n",
      "INFO: [2021-02-22 12:32:22] indra.assemblers.html.assembler - Removing CHEBI from refs due to too many matches: {'CHEBI:64208', 'CHEBI:90693'}\n",
      "INFO: [2021-02-22 12:32:22] indra.assemblers.html.assembler - Removing CHEBI from refs due to too many matches: {'CHEBI:82713', '82713'}\n",
      "INFO: [2021-02-22 12:32:22] indra.assemblers.html.assembler - Removing CHEBI from refs due to too many matches: {'CHEBI:27300', '27300'}\n",
      "INFO: [2021-02-22 12:32:22] indra.assemblers.html.assembler - Removing CHEBI from refs due to too many matches: {'CHEBI:16243', '16243'}\n",
      "INFO: [2021-02-22 12:32:22] indra.assemblers.html.assembler - Removing CHEBI from refs due to too many matches: {'9642', 'CHEBI:9642'}\n",
      "INFO: [2021-02-22 12:32:22] indra.assemblers.html.assembler - Removing CHEBI from refs due to too many matches: {'131326', 'CHEBI:131326'}\n",
      "INFO: [2021-02-22 12:32:22] indra.assemblers.html.assembler - Removing CHEBI from refs due to too many matches: {'16118', 'CHEBI:16118'}\n",
      "INFO: [2021-02-22 12:32:22] indra.assemblers.html.assembler - Removing CHEBI from refs due to too many matches: {'CHEBI:27363', '27363'}\n",
      "INFO: [2021-02-22 12:32:22] indra.assemblers.html.assembler - Removing CHEBI from refs due to too many matches: {'CHEBI:16243', '16243'}\n",
      "INFO: [2021-02-22 12:32:22] indra.assemblers.html.assembler - Removing CHEBI from refs due to too many matches: {'CHEBI:24261', '24261'}\n",
      "INFO: [2021-02-22 12:32:22] indra.assemblers.html.assembler - Removing CHEBI from refs due to too many matches: {'87103', 'CHEBI:87103'}\n",
      "INFO: [2021-02-22 12:32:22] indra.assemblers.html.assembler - Removing CHEBI from refs due to too many matches: {'CHEBI:27363', '27363'}\n",
      "INFO: [2021-02-22 12:32:22] indra.assemblers.html.assembler - Removing CHEBI from refs due to too many matches: {'CHEBI:64208', 'CHEBI:90693'}\n",
      "INFO: [2021-02-22 12:32:22] indra.assemblers.html.assembler - Removing PUBCHEM from refs due to too many matches: {'5359476', '5339'}\n",
      "INFO: [2021-02-22 12:32:22] indra.assemblers.html.assembler - Removing PUBCHEM from refs due to too many matches: {'5359476', '5339'}\n",
      "INFO: [2021-02-22 12:32:23] indra.assemblers.html.assembler - Removing CHEBI from refs due to too many matches: {'CHEBI:27363', '27363'}\n",
      "INFO: [2021-02-22 12:32:23] indra.assemblers.html.assembler - Removing CHEBI from refs due to too many matches: {'7754', 'CHEBI:7754'}\n"
     ]
    },
    {
     "name": "stderr",
     "output_type": "stream",
     "text": [
      "INFO: [2021-02-22 12:32:23] indra.assemblers.html.assembler - Removing CHEBI from refs due to too many matches: {'CHEBI:25053', 'CHEBI:23053'}\n",
      "INFO: [2021-02-22 12:32:23] indra.assemblers.html.assembler - Removing CHEBI from refs due to too many matches: {'16118', 'CHEBI:16118'}\n",
      "INFO: [2021-02-22 12:32:23] indra.assemblers.html.assembler - Removing CHEBI from refs due to too many matches: {'CHEBI:64208', 'CHEBI:90693'}\n",
      "INFO: [2021-02-22 12:32:23] indra.assemblers.html.assembler - Removing CHEBI from refs due to too many matches: {'CHEBI:64208', 'CHEBI:90693'}\n",
      "INFO: [2021-02-22 12:32:23] indra.assemblers.html.assembler - Removing CHEBI from refs due to too many matches: {'87103', 'CHEBI:87103'}\n",
      "INFO: [2021-02-22 12:32:24] indra.assemblers.html.assembler - Removing CHEBI from refs due to too many matches: {'CHEBI:27363', '27363'}\n",
      "INFO: [2021-02-22 12:32:24] indra.assemblers.html.assembler - Removing PUBCHEM from refs due to too many matches: {'6021', '135398641'}\n",
      "INFO: [2021-02-22 12:32:24] indra.assemblers.html.assembler - Removing CHEBI from refs due to too many matches: {'63959', 'CHEBI:63959'}\n",
      "INFO: [2021-02-22 12:32:24] indra.assemblers.html.assembler - Removing CHEBI from refs due to too many matches: {'48706', 'CHEBI:48706'}\n",
      "INFO: [2021-02-22 12:32:24] indra.assemblers.html.assembler - Removing CHEBI from refs due to too many matches: {'48706', 'CHEBI:48706'}\n",
      "INFO: [2021-02-22 12:32:24] indra.assemblers.html.assembler - Removing CHEBI from refs due to too many matches: {'CHEBI:15368', '15368'}\n",
      "INFO: [2021-02-22 12:32:24] indra.assemblers.html.assembler - Removing PUBCHEM from refs due to too many matches: {'10461815', '66596670'}\n",
      "INFO: [2021-02-22 12:32:24] indra.assemblers.html.assembler - Removing CHEMBL from refs due to too many matches: {'CHEMBL450786', '450786'}\n",
      "INFO: [2021-02-22 12:32:24] indra.assemblers.html.assembler - Removing PUBCHEM from refs due to too many matches: {'10461815', '66596670'}\n",
      "INFO: [2021-02-22 12:32:24] indra.assemblers.html.assembler - Removing CHEMBL from refs due to too many matches: {'CHEMBL450786', '450786'}\n",
      "INFO: [2021-02-22 12:32:24] indra.assemblers.html.assembler - Removing CHEBI from refs due to too many matches: {'CHEBI:90544', '90544'}\n"
     ]
    }
   ],
   "source": [
    "from indra.assemblers.html import HtmlAssembler\n",
    "from indra.ontology.bio import bio_ontology\n",
    "all_stmts = []\n",
    "# Dump target-specific HTMLs\n",
    "for gene_grounding, inhs in inhibitors.items():\n",
    "    ha = HtmlAssembler(inhs, db_rest_url='https://db.indra.bio')\n",
    "    ha.make_model()\n",
    "    gene_name = bio_ontology.get_name(*gene_grounding)\n",
    "    ha.save_model(f'{gene_name}.html')\n",
    "    all_stmts += inhs\n",
    "# Now dump for all inhibitors in a single file\n",
    "ha = HtmlAssembler(all_stmts, db_rest_url='https://db.indra.bio')\n",
    "ha.make_model()\n",
    "pathway_code = pathway_name.replace(' ', '_').lower()\n",
    "ha.save_model(f'all_inhibitors_{pathway_code}.html')"
   ]
  },
  {
   "cell_type": "code",
   "execution_count": null,
   "metadata": {},
   "outputs": [],
   "source": []
  }
 ],
 "metadata": {
  "kernelspec": {
   "display_name": "Python 3",
   "language": "python",
   "name": "python3"
  },
  "language_info": {
   "codemirror_mode": {
    "name": "ipython",
    "version": 3
   },
   "file_extension": ".py",
   "mimetype": "text/x-python",
   "name": "python",
   "nbconvert_exporter": "python",
   "pygments_lexer": "ipython3",
   "version": "3.9.0"
  }
 },
 "nbformat": 4,
 "nbformat_minor": 4
}
